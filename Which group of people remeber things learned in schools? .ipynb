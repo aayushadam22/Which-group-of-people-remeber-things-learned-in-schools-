{
 "cells": [
  {
   "cell_type": "markdown",
   "metadata": {},
   "source": [
    "<h1> <b>Which group of people remeber things learned in schools? </b></h1>"
   ]
  },
  {
   "cell_type": "markdown",
   "metadata": {},
   "source": [
    "**By:** Aayush Srivastava"
   ]
  },
  {
   "cell_type": "markdown",
   "metadata": {},
   "source": [
    "<h2> <b>Disclaimer:</b> </h2>"
   ]
  },
  {
   "cell_type": "markdown",
   "metadata": {},
   "source": [
    "The data for the analysis was collected through a survey without invigilation, which could have allowed some degree of bias and unreliability in the data. The author(s) **won't be responsible** for any incorrect data and fallacies."
   ]
  },
  {
   "cell_type": "markdown",
   "metadata": {},
   "source": [
    "<h2> Brief: </h2>"
   ]
  },
  {
   "cell_type": "markdown",
   "metadata": {},
   "source": [
    "The data was collected in the form of a simple MCQ test based on things generally taught in schools. The user was asked for some basic details like gender, age, nature and past academic record. The data was then sorted into smalled frames on the basis of the characteristics, for example age groups. Then the average score of each group was calculated and the group with highest average was deemed the winner in the respective category."
   ]
  },
  {
   "cell_type": "markdown",
   "metadata": {},
   "source": [
    "<h2><b> Analysis: </b></h2>"
   ]
  },
  {
   "cell_type": "code",
   "execution_count": 1,
   "metadata": {},
   "outputs": [],
   "source": [
    "import numpy as np\n",
    "import pandas as pd\n",
    "import matplotlib.pyplot as plt"
   ]
  },
  {
   "cell_type": "markdown",
   "metadata": {},
   "source": [
    "<h3> Importing the dataset:  </h3>"
   ]
  },
  {
   "cell_type": "code",
   "execution_count": 2,
   "metadata": {},
   "outputs": [
    {
     "data": {
      "text/html": [
       "<div>\n",
       "<style scoped>\n",
       "    .dataframe tbody tr th:only-of-type {\n",
       "        vertical-align: middle;\n",
       "    }\n",
       "\n",
       "    .dataframe tbody tr th {\n",
       "        vertical-align: top;\n",
       "    }\n",
       "\n",
       "    .dataframe thead th {\n",
       "        text-align: right;\n",
       "    }\n",
       "</style>\n",
       "<table border=\"1\" class=\"dataframe\">\n",
       "  <thead>\n",
       "    <tr style=\"text-align: right;\">\n",
       "      <th></th>\n",
       "      <th>Timestamp</th>\n",
       "      <th>Score</th>\n",
       "      <th>Which age group you belong to?</th>\n",
       "      <th>Which one of the following best describes you?</th>\n",
       "      <th>Which one of the following best describes you?.1</th>\n",
       "      <th>How good were you in school?</th>\n",
       "      <th>On a scale of 1-10 how do you feel about school days?</th>\n",
       "      <th>The side opposite to the right angle in a right angled triangle is?</th>\n",
       "      <th>What is Density of water?</th>\n",
       "      <th>In a neutral atom the number of protons is numerically equal to?</th>\n",
       "      <th>Which is the smallest country by area in the world?</th>\n",
       "      <th>What are the egg laying mammals left on Earth?</th>\n",
       "      <th>What is the deepest point on Earth?</th>\n",
       "      <th>Rabi crops are sown in the month of?</th>\n",
       "      <th>Which planet spins opposite to Earth?</th>\n",
       "      <th>In which sex is more likely to suffer from color blindness?</th>\n",
       "      <th>Optical fiber works on the principle of?</th>\n",
       "      <th>(e^(i*pi)) =</th>\n",
       "    </tr>\n",
       "  </thead>\n",
       "  <tbody>\n",
       "    <tr>\n",
       "      <th>0</th>\n",
       "      <td>9/19/2020 16:05:45</td>\n",
       "      <td>11 / 11</td>\n",
       "      <td>20-30</td>\n",
       "      <td>Male</td>\n",
       "      <td>Introvert</td>\n",
       "      <td>Above Average</td>\n",
       "      <td>5</td>\n",
       "      <td>Hypotenuse</td>\n",
       "      <td>997 kg/m³</td>\n",
       "      <td>Number of Electrons</td>\n",
       "      <td>Vatican City</td>\n",
       "      <td>Echidna, Platypus</td>\n",
       "      <td>Challenger Deep</td>\n",
       "      <td>November</td>\n",
       "      <td>Venus</td>\n",
       "      <td>Male</td>\n",
       "      <td>Total Internal Reflection</td>\n",
       "      <td>-1.0</td>\n",
       "    </tr>\n",
       "    <tr>\n",
       "      <th>1</th>\n",
       "      <td>9/19/2020 16:38:15</td>\n",
       "      <td>3 / 11</td>\n",
       "      <td>20-30</td>\n",
       "      <td>Female</td>\n",
       "      <td>Ambivert</td>\n",
       "      <td>Average</td>\n",
       "      <td>9</td>\n",
       "      <td>Adjacent</td>\n",
       "      <td>997 kg/m³</td>\n",
       "      <td>None/ Can't be determined.</td>\n",
       "      <td>Vatican City</td>\n",
       "      <td>Platypus</td>\n",
       "      <td>Puerto Rico Trench</td>\n",
       "      <td>April</td>\n",
       "      <td>Venus</td>\n",
       "      <td>Female</td>\n",
       "      <td>Oscillation</td>\n",
       "      <td>inf</td>\n",
       "    </tr>\n",
       "    <tr>\n",
       "      <th>2</th>\n",
       "      <td>9/19/2020 16:45:57</td>\n",
       "      <td>10 / 11</td>\n",
       "      <td>20-30</td>\n",
       "      <td>Female</td>\n",
       "      <td>Extrovert</td>\n",
       "      <td>Average</td>\n",
       "      <td>4</td>\n",
       "      <td>Hypotenuse</td>\n",
       "      <td>997 kg/m³</td>\n",
       "      <td>Number of Electrons</td>\n",
       "      <td>Vatican City</td>\n",
       "      <td>Platypus</td>\n",
       "      <td>Challenger Deep</td>\n",
       "      <td>November</td>\n",
       "      <td>Venus</td>\n",
       "      <td>Male</td>\n",
       "      <td>Total Internal Reflection</td>\n",
       "      <td>-1.0</td>\n",
       "    </tr>\n",
       "    <tr>\n",
       "      <th>3</th>\n",
       "      <td>9/19/2020 16:47:46</td>\n",
       "      <td>3 / 11</td>\n",
       "      <td>20-30</td>\n",
       "      <td>Female</td>\n",
       "      <td>Ambivert</td>\n",
       "      <td>Above Average</td>\n",
       "      <td>8</td>\n",
       "      <td>Hypotenuse</td>\n",
       "      <td>1000 kg/m³</td>\n",
       "      <td>Number of Neutrons + Number of Electrons</td>\n",
       "      <td>Vatican City</td>\n",
       "      <td>Obdurodon</td>\n",
       "      <td>Peru–Chile Trench</td>\n",
       "      <td>April</td>\n",
       "      <td>Mercury</td>\n",
       "      <td>Male</td>\n",
       "      <td>Radiation</td>\n",
       "      <td>inf</td>\n",
       "    </tr>\n",
       "    <tr>\n",
       "      <th>4</th>\n",
       "      <td>9/19/2020 16:52:52</td>\n",
       "      <td>9 / 11</td>\n",
       "      <td>20-30</td>\n",
       "      <td>Male</td>\n",
       "      <td>Introvert</td>\n",
       "      <td>Above Average</td>\n",
       "      <td>7</td>\n",
       "      <td>Hypotenuse</td>\n",
       "      <td>997 kg/m³</td>\n",
       "      <td>Number of Electrons</td>\n",
       "      <td>Vatican City</td>\n",
       "      <td>Platypus</td>\n",
       "      <td>Challenger Deep</td>\n",
       "      <td>November</td>\n",
       "      <td>Venus</td>\n",
       "      <td>Male</td>\n",
       "      <td>Total Internal Reflection</td>\n",
       "      <td>0.0</td>\n",
       "    </tr>\n",
       "  </tbody>\n",
       "</table>\n",
       "</div>"
      ],
      "text/plain": [
       "            Timestamp    Score Which age group you belong to?  \\\n",
       "0  9/19/2020 16:05:45  11 / 11                          20-30   \n",
       "1  9/19/2020 16:38:15   3 / 11                          20-30   \n",
       "2  9/19/2020 16:45:57  10 / 11                          20-30   \n",
       "3  9/19/2020 16:47:46   3 / 11                          20-30   \n",
       "4  9/19/2020 16:52:52   9 / 11                          20-30   \n",
       "\n",
       "  Which one of the following best describes you?  \\\n",
       "0                                           Male   \n",
       "1                                         Female   \n",
       "2                                         Female   \n",
       "3                                         Female   \n",
       "4                                           Male   \n",
       "\n",
       "  Which one of the following best describes you?.1  \\\n",
       "0                                        Introvert   \n",
       "1                                         Ambivert   \n",
       "2                                        Extrovert   \n",
       "3                                         Ambivert   \n",
       "4                                        Introvert   \n",
       "\n",
       "  How good were you in school?  \\\n",
       "0                Above Average   \n",
       "1                      Average   \n",
       "2                      Average   \n",
       "3                Above Average   \n",
       "4                Above Average   \n",
       "\n",
       "   On a scale of 1-10 how do you feel about school days?  \\\n",
       "0                                                  5       \n",
       "1                                                  9       \n",
       "2                                                  4       \n",
       "3                                                  8       \n",
       "4                                                  7       \n",
       "\n",
       "  The side opposite to the right angle in a right angled triangle is?  \\\n",
       "0                                         Hypotenuse                    \n",
       "1                                           Adjacent                    \n",
       "2                                         Hypotenuse                    \n",
       "3                                         Hypotenuse                    \n",
       "4                                         Hypotenuse                    \n",
       "\n",
       "  What is Density of water?  \\\n",
       "0                 997 kg/m³   \n",
       "1                 997 kg/m³   \n",
       "2                 997 kg/m³   \n",
       "3                1000 kg/m³   \n",
       "4                 997 kg/m³   \n",
       "\n",
       "  In a neutral atom the number of protons is numerically equal to?  \\\n",
       "0                                Number of Electrons                 \n",
       "1                         None/ Can't be determined.                 \n",
       "2                                Number of Electrons                 \n",
       "3           Number of Neutrons + Number of Electrons                 \n",
       "4                                Number of Electrons                 \n",
       "\n",
       "  Which is the smallest country by area in the world?  \\\n",
       "0                                       Vatican City    \n",
       "1                                       Vatican City    \n",
       "2                                       Vatican City    \n",
       "3                                       Vatican City    \n",
       "4                                       Vatican City    \n",
       "\n",
       "  What are the egg laying mammals left on Earth?  \\\n",
       "0                              Echidna, Platypus   \n",
       "1                                       Platypus   \n",
       "2                                       Platypus   \n",
       "3                                      Obdurodon   \n",
       "4                                       Platypus   \n",
       "\n",
       "  What is the deepest point on Earth? Rabi crops are sown in the month of?  \\\n",
       "0                     Challenger Deep                             November   \n",
       "1                  Puerto Rico Trench                                April   \n",
       "2                     Challenger Deep                             November   \n",
       "3                   Peru–Chile Trench                                April   \n",
       "4                     Challenger Deep                             November   \n",
       "\n",
       "  Which planet spins opposite to Earth?  \\\n",
       "0                                 Venus   \n",
       "1                                 Venus   \n",
       "2                                 Venus   \n",
       "3                               Mercury   \n",
       "4                                 Venus   \n",
       "\n",
       "  In which sex is more likely to suffer from color blindness?  \\\n",
       "0                                               Male            \n",
       "1                                             Female            \n",
       "2                                               Male            \n",
       "3                                               Male            \n",
       "4                                               Male            \n",
       "\n",
       "  Optical fiber works on the principle of?  (e^(i*pi)) =  \n",
       "0                Total Internal Reflection          -1.0  \n",
       "1                              Oscillation           inf  \n",
       "2                Total Internal Reflection          -1.0  \n",
       "3                                Radiation           inf  \n",
       "4                Total Internal Reflection           0.0  "
      ]
     },
     "execution_count": 2,
     "metadata": {},
     "output_type": "execute_result"
    }
   ],
   "source": [
    "mdata=pd.read_csv('/home/aayush/Projects/Python/Do people remeber what they learned in school/data.csv')\n",
    "mdata.head()"
   ]
  },
  {
   "cell_type": "markdown",
   "metadata": {},
   "source": [
    "<h3> Helper Functions: </h3>"
   ]
  },
  {
   "cell_type": "code",
   "execution_count": 3,
   "metadata": {},
   "outputs": [],
   "source": [
    "def calc_avg(scores):\n",
    "    '''Calculate the average score.'''\n",
    "    sum=0\n",
    "    for i in scores:\n",
    "        sum+=int(i.split()[0])\n",
    "    return sum/len(scores)"
   ]
  },
  {
   "cell_type": "code",
   "execution_count": 4,
   "metadata": {},
   "outputs": [],
   "source": [
    "def split_data(fra,col,val):\n",
    "    '''Splits main data frame into samller frames.'''\n",
    "    return fra.loc[fra[col]==val]"
   ]
  },
  {
   "cell_type": "code",
   "execution_count": 5,
   "metadata": {},
   "outputs": [],
   "source": [
    "def better(pos,*f):\n",
    "    '''Finds the better scoring group.'''\n",
    "    cnt=0\n",
    "    best=[0,0]\n",
    "    for i in f:\n",
    "        print('Average score of '+str(pos[cnt])+' is:'+str(calc_avg(i['Score'])))\n",
    "        if calc_avg(i['Score'])>best[0]:\n",
    "            best[0]=calc_avg(i['Score'])\n",
    "            best[1]=cnt\n",
    "        cnt+=1\n",
    "    return pos[best[1]]"
   ]
  },
  {
   "cell_type": "markdown",
   "metadata": {},
   "source": [
    "<h3> Splitting the data according to <b> age </b>: </h3>"
   ]
  },
  {
   "cell_type": "markdown",
   "metadata": {},
   "source": [
    "The data is split into two groups namely age group <b> '20-30' </b> represented by <b> data_20_30 </b> and the group <b> Below 20 </b> represented by <b> data_20 </b>."
   ]
  },
  {
   "cell_type": "code",
   "execution_count": 6,
   "metadata": {},
   "outputs": [],
   "source": [
    "data_20_30,data_20=split_data(mdata,'Which age group you belong to?','20-30'),split_data(mdata,'Which age group you belong to?','Below 20')"
   ]
  },
  {
   "cell_type": "code",
   "execution_count": 7,
   "metadata": {},
   "outputs": [
    {
     "name": "stdout",
     "output_type": "stream",
     "text": [
      "Average score of Below 20 is:6.40625\n",
      "Average score of 20-30 is:6.7317073170731705\n"
     ]
    },
    {
     "data": {
      "text/plain": [
       "'20-30'"
      ]
     },
     "execution_count": 7,
     "metadata": {},
     "output_type": "execute_result"
    }
   ],
   "source": [
    "p=['Below 20','20-30']\n",
    "better(p,data_20,data_20_30)"
   ]
  },
  {
   "cell_type": "markdown",
   "metadata": {},
   "source": [
    "From the above results we can say that people in age group <b> 20-30 </b> performed better than people younger than 20."
   ]
  },
  {
   "cell_type": "markdown",
   "metadata": {},
   "source": [
    "<h3> Splitting the data according to <b> gender </b>: </h3>"
   ]
  },
  {
   "cell_type": "markdown",
   "metadata": {},
   "source": [
    "The data is split into two groups <b> 'male' </b> represented by <b> data_male </b> and the <b> 'female' </b> represented by <b> data_female </b>."
   ]
  },
  {
   "cell_type": "code",
   "execution_count": 8,
   "metadata": {},
   "outputs": [],
   "source": [
    "data_male,data_female=split_data(mdata,'Which one of the following best describes you?','Male'),split_data(mdata,'Which one of the following best describes you?','Female')"
   ]
  },
  {
   "cell_type": "code",
   "execution_count": 9,
   "metadata": {},
   "outputs": [
    {
     "name": "stdout",
     "output_type": "stream",
     "text": [
      "Average score of Male is:6.314285714285714\n",
      "Average score of Female is:6.82051282051282\n"
     ]
    },
    {
     "data": {
      "text/plain": [
       "'Female'"
      ]
     },
     "execution_count": 9,
     "metadata": {},
     "output_type": "execute_result"
    }
   ],
   "source": [
    "p=['Male','Female']\n",
    "better(p,data_male,data_female)"
   ]
  },
  {
   "cell_type": "markdown",
   "metadata": {},
   "source": [
    "From the above results we can say that <b> females </b> performed better than males."
   ]
  },
  {
   "cell_type": "markdown",
   "metadata": {},
   "source": [
    "<h3> Splitting the data according to <b> behaviour </b> : </h3>"
   ]
  },
  {
   "cell_type": "markdown",
   "metadata": {},
   "source": [
    "We split the data into <b> three </b> groups <b> Introverts, Extroverts and Ambivert </b>."
   ]
  },
  {
   "cell_type": "code",
   "execution_count": 10,
   "metadata": {},
   "outputs": [],
   "source": [
    "data_intro,data_extro,data_ambi=split_data(mdata,'Which one of the following best describes you?.1','Introvert'),split_data(mdata,'Which one of the following best describes you?.1','Extrovert'),split_data(mdata,'Which one of the following best describes you?.1','Ambivert')"
   ]
  },
  {
   "cell_type": "code",
   "execution_count": 11,
   "metadata": {},
   "outputs": [
    {
     "name": "stdout",
     "output_type": "stream",
     "text": [
      "Average score of Introvert is:6.5625\n",
      "Average score of Extrovert is:6.75\n",
      "Average score of Ambivert is:6.5\n"
     ]
    },
    {
     "data": {
      "text/plain": [
       "'Extrovert'"
      ]
     },
     "execution_count": 11,
     "metadata": {},
     "output_type": "execute_result"
    }
   ],
   "source": [
    "p=['Introvert','Extrovert','Ambivert']\n",
    "better(p,data_intro,data_extro,data_ambi)"
   ]
  },
  {
   "cell_type": "markdown",
   "metadata": {},
   "source": [
    "From the results we infer that <b> Extroverts </b> scored more than others."
   ]
  },
  {
   "cell_type": "markdown",
   "metadata": {},
   "source": [
    "<h3> Splitting the data according to <b> academic record </b> : </h3>"
   ]
  },
  {
   "cell_type": "markdown",
   "metadata": {},
   "source": [
    "<b> Four </b> groups are made of people with an <b> Below average, Average, Above Average and Extraordinary </b> academic record."
   ]
  },
  {
   "cell_type": "code",
   "execution_count": 12,
   "metadata": {},
   "outputs": [],
   "source": [
    "data_below_avg,data_avg,data_above_avg,data_extra=split_data(mdata,'How good were you in school?','Below Average'),split_data(mdata,'How good were you in school?','Average'),split_data(mdata,'How good were you in school?','Above Average'),split_data(mdata,'How good were you in school?','Extraordinary')"
   ]
  },
  {
   "cell_type": "code",
   "execution_count": 13,
   "metadata": {},
   "outputs": [
    {
     "name": "stdout",
     "output_type": "stream",
     "text": [
      "Average score of Below Average is:4.0\n",
      "Average score of Average is:5.9\n",
      "Average score of Above Average is:6.975\n",
      "Average score of Extraordinary is:6.785714285714286\n"
     ]
    },
    {
     "data": {
      "text/plain": [
       "'Above Average'"
      ]
     },
     "execution_count": 13,
     "metadata": {},
     "output_type": "execute_result"
    }
   ],
   "source": [
    "p=['Below Average','Average','Above Average','Extraordinary']\n",
    "better(p,data_below_avg,data_avg,data_above_avg,data_extra)"
   ]
  },
  {
   "cell_type": "markdown",
   "metadata": {},
   "source": [
    "Hence we infer that people with an <b> Above average </b> academic record were better performers than others."
   ]
  },
  {
   "cell_type": "markdown",
   "metadata": {},
   "source": [
    "<h3> Splitting the data according to <b> gender and behaviour </b> : </h3>"
   ]
  },
  {
   "cell_type": "markdown",
   "metadata": {},
   "source": [
    "Adding a little complexity to our analysis soo far we will split data into 6 groups 3 for men of different behaviours and 3 for women."
   ]
  },
  {
   "cell_type": "code",
   "execution_count": 14,
   "metadata": {},
   "outputs": [],
   "source": [
    "data_men_intro,data_men_extro,data_men_ambi=split_data(data_male,'Which one of the following best describes you?.1','Introvert'),split_data(data_male,'Which one of the following best describes you?.1','Extrovert'),split_data(data_male,'Which one of the following best describes you?.1','Ambivert')"
   ]
  },
  {
   "cell_type": "code",
   "execution_count": 15,
   "metadata": {},
   "outputs": [],
   "source": [
    "data_wom_intro,data_wom_extro,data_wom_ambi=split_data(data_female,'Which one of the following best describes you?.1','Introvert'),split_data(data_female,'Which one of the following best describes you?.1','Extrovert'),split_data(data_female,'Which one of the following best describes you?.1','Ambivert')"
   ]
  },
  {
   "cell_type": "code",
   "execution_count": 16,
   "metadata": {},
   "outputs": [
    {
     "name": "stdout",
     "output_type": "stream",
     "text": [
      "Average score of Male-Introvert is:6.2105263157894735\n",
      "Average score of Male-Extrovert is:6.428571428571429\n",
      "Average score of Male-Ambivert is:6.444444444444445\n",
      "Average score of Female-Introvert is:7.076923076923077\n",
      "Average score of Female-Extrovert is:7.0\n",
      "Average score of Female-Ambivert is:6.529411764705882\n"
     ]
    },
    {
     "data": {
      "text/plain": [
       "'Female-Introvert'"
      ]
     },
     "execution_count": 16,
     "metadata": {},
     "output_type": "execute_result"
    }
   ],
   "source": [
    "p=['Male-Introvert','Male-Extrovert','Male-Ambivert','Female-Introvert','Female-Extrovert','Female-Ambivert']\n",
    "better(p,data_men_intro,data_men_extro,data_men_ambi,data_wom_intro,data_wom_extro,data_wom_ambi)"
   ]
  },
  {
   "cell_type": "markdown",
   "metadata": {},
   "source": [
    "Hence we infer that <b> Introvert females </b> perform better than other groups."
   ]
  },
  {
   "cell_type": "markdown",
   "metadata": {},
   "source": [
    "<h2> <b> Conclusion: </b> </h2>"
   ]
  },
  {
   "cell_type": "markdown",
   "metadata": {},
   "source": [
    "From the above analysis we can infer that:\n",
    "1. People in the age group <b> 20-30 </b> better remember things taught in schools than younger candidates.\n",
    "2. <b> Females </b> are better than males at remembering school stuff.\n",
    "3. <b> Extroverts </b> are better than their others.\n",
    "4. People with an <b> above average </b> academic record have performed better than others quiet suprising.\n",
    "5. <b> Females who are introverts </b> are best at remebering school stuff than the other groups."
   ]
  }
 ],
 "metadata": {
  "kernelspec": {
   "display_name": "Python 3",
   "language": "python",
   "name": "python3"
  },
  "language_info": {
   "codemirror_mode": {
    "name": "ipython",
    "version": 3
   },
   "file_extension": ".py",
   "mimetype": "text/x-python",
   "name": "python",
   "nbconvert_exporter": "python",
   "pygments_lexer": "ipython3",
   "version": "3.8.3"
  }
 },
 "nbformat": 4,
 "nbformat_minor": 4
}
